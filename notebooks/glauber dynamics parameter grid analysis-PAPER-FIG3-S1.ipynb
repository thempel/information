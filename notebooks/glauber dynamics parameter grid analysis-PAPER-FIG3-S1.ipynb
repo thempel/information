{
 "cells": [
  {
   "cell_type": "code",
   "execution_count": 1,
   "metadata": {
    "ExecuteTime": {
     "end_time": "2024-01-21T14:45:30.802886Z",
     "start_time": "2024-01-21T14:45:29.772342Z"
    }
   },
   "outputs": [],
   "source": [
    "import numpy as np\n",
    "import itertools\n",
    "import sys\n",
    "import pyemma\n",
    "import msmtools\n",
    "import matplotlib as mpl\n",
    "import matplotlib.pyplot as plt\n",
    "from scipy.linalg import expm\n",
    "from tqdm.notebook import tqdm"
   ]
  },
  {
   "cell_type": "code",
   "execution_count": 2,
   "metadata": {
    "ExecuteTime": {
     "end_time": "2024-01-21T14:45:32.541134Z",
     "start_time": "2024-01-21T14:45:30.804514Z"
    }
   },
   "outputs": [],
   "source": [
    "sys.path.append('/home/mi/thempel/code/information/')\n",
    "import informant as inf"
   ]
  },
  {
   "cell_type": "markdown",
   "metadata": {},
   "source": [
    "### Glauber dynamics with driven spin\n",
    "### systematic analysis: estimators and Ising hyperparameters"
   ]
  },
  {
   "cell_type": "code",
   "execution_count": 4,
   "metadata": {
    "ExecuteTime": {
     "end_time": "2024-01-21T14:46:25.107593Z",
     "start_time": "2024-01-21T14:46:25.094967Z"
    }
   },
   "outputs": [],
   "source": [
    "tau = 1. # used for generating data\n",
    "\n",
    "#driver_rates = 5*np.logspace(-3, 0, 15)\n",
    "#driver_rates = np.linspace(0.001, .6, 15) # 15\n",
    "driver_rates = .5 * np.logspace(-3.5, 0, 15)\n",
    "\n",
    "driver_alphas = 2 * driver_rates\n",
    "driver_ps = np.array([expm(tau * np.array([[-p, p], [p, -p]]))[0, 1] for p in driver_rates])\n",
    "\n",
    "coupling_js = np.logspace(-1.2, 1, 12)[:-1]  # 12\n",
    "coupling_gammas = np.tanh(2.*coupling_js)\n",
    "\n",
    "\n",
    "nspins = 10\n",
    "n_trails = 3\n",
    "traj_length = 100000\n",
    "msmlag = 5\n",
    "ashape = (driver_ps.shape[0], coupling_js.shape[0], n_trails)"
   ]
  },
  {
   "cell_type": "code",
   "execution_count": 17,
   "metadata": {
    "ExecuteTime": {
     "end_time": "2024-01-21T14:56:40.040033Z",
     "start_time": "2024-01-21T14:56:40.032475Z"
    }
   },
   "outputs": [
    {
     "name": "stdout",
     "output_type": "stream",
     "text": [
      "transition probabilities of not-driven spins, if not taking into account neighbor interactions:\n",
      "0.04758129098202021\n"
     ]
    }
   ],
   "source": [
    "not_driver_alpha = 0.1  # default functional kwarg; 2 x rate\n",
    "\n",
    "not_driver_p = expm(tau * np.array([[-not_driver_alpha/2, not_driver_alpha/2], [not_driver_alpha/2, -not_driver_alpha/2]]))[0, 1]\n",
    "print(\"transition probabilities of not-driven spins, if not taking into account neighbor interactions:\")\n",
    "print(not_driver_p)"
   ]
  },
  {
   "cell_type": "markdown",
   "metadata": {},
   "source": [
    "### Ising data generation\n",
    "Note: For efficiency reasons, trajectories are generated once and saved to disk. "
   ]
  },
  {
   "cell_type": "code",
   "execution_count": 4,
   "metadata": {
    "scrolled": true
   },
   "outputs": [],
   "source": [
    "# states_allruns = np.empty(ashape + (nspins, traj_length), dtype=bool)\n",
    "\n",
    "# for t in tqdm_notebook(range(n_trails), total=n_trails):\n",
    "#     for n, p_self in tqdm_notebook(enumerate(driver_alphas), total=len(driver_rates)):\n",
    "#         for m, gamma in enumerate(coupling_gammas):\n",
    "\n",
    "#             states = inf.generators.gen_ising_traj(nspins, traj_length, driven=True, alpha_driver=p_self, gamma=gamma, show_progress=False)\n",
    "\n",
    "#             states_allruns[n, m, t] = states.astype(bool)"
   ]
  },
  {
   "cell_type": "code",
   "execution_count": 5,
   "metadata": {},
   "outputs": [],
   "source": [
    "# np.savez('/storage/mi/thempel/projects/directed_networks/ising/glauber_states_allruns.npz', \n",
    "#          states_allruns=states_allruns, \n",
    "#          driver_ps=driver_ps, \n",
    "#          coupling_js=coupling_js, savez_compressed=True)"
   ]
  },
  {
   "cell_type": "code",
   "execution_count": 5,
   "metadata": {
    "ExecuteTime": {
     "end_time": "2024-01-21T14:46:35.401513Z",
     "start_time": "2024-01-21T14:46:34.830063Z"
    }
   },
   "outputs": [],
   "source": [
    "data = np.load('glauber_states_allruns.npz', allow_pickle=True)\n",
    "states_allruns = data['states_allruns']"
   ]
  },
  {
   "cell_type": "markdown",
   "metadata": {},
   "source": [
    "### Estimation of directed networks using MSM probabilities"
   ]
  },
  {
   "cell_type": "code",
   "execution_count": 7,
   "metadata": {
    "ExecuteTime": {
     "end_time": "2024-01-21T14:51:15.020338Z",
     "start_time": "2024-01-21T14:46:39.863727Z"
    }
   },
   "outputs": [
    {
     "data": {
      "application/vnd.jupyter.widget-view+json": {
       "model_id": "874bb229c6cc42d99d3047c2f65e56fb",
       "version_major": 2,
       "version_minor": 0
      },
      "text/plain": [
       "  0%|          | 0/15 [00:00<?, ?it/s]"
      ]
     },
     "metadata": {},
     "output_type": "display_data"
    },
    {
     "data": {
      "application/vnd.jupyter.widget-view+json": {
       "model_id": "67ce895e12824e3ea2157bde7c34cbd3",
       "version_major": 2,
       "version_minor": 0
      },
      "text/plain": [
       "  0%|          | 0/15 [00:00<?, ?it/s]"
      ]
     },
     "metadata": {},
     "output_type": "display_data"
    },
    {
     "data": {
      "application/vnd.jupyter.widget-view+json": {
       "model_id": "78684b93d9ea4ccdaf15068c2210f4c0",
       "version_major": 2,
       "version_minor": 0
      },
      "text/plain": [
       "  0%|          | 0/15 [00:00<?, ?it/s]"
      ]
     },
     "metadata": {},
     "output_type": "display_data"
    }
   ],
   "source": [
    "te_forw = np.zeros(ashape)\n",
    "te_backw = np.zeros(ashape)\n",
    "te_forw_rev = np.zeros(ashape)\n",
    "te_backw_rev = np.zeros(ashape)\n",
    "te_forw_revsubm = np.zeros(ashape)\n",
    "te_backw_revsubm = np.zeros(ashape)\n",
    "d = np.zeros(ashape)\n",
    "r = np.zeros(ashape)\n",
    "d_i4 = np.zeros(ashape)\n",
    "r_i4 = np.zeros(ashape)\n",
    "\n",
    "\n",
    "te_forw_control = np.zeros(ashape)\n",
    "te_backw_control = np.zeros(ashape)\n",
    "te_forw_rev_control = np.zeros(ashape)\n",
    "te_backw_rev_control = np.zeros(ashape)\n",
    "d_control = np.zeros(ashape)\n",
    "r_control = np.zeros(ashape)\n",
    "d_i4_control = np.zeros(ashape)\n",
    "r_i4_control = np.zeros(ashape)\n",
    "\n",
    "spin_stability_neighbor = np.zeros(ashape)\n",
    "spin_stability_random = np.zeros(ashape)\n",
    "\n",
    "for t in range(n_trails):\n",
    "    for n, p_self in tqdm(enumerate(driver_ps), total=len(driver_ps)):\n",
    "        for m, p in enumerate(coupling_js):\n",
    "            states = states_allruns[n, m, t]\n",
    "            # 1 driver -> neighbor\n",
    "            # 1.1 non-reversible\n",
    "            est = inf.TransferEntropy(inf.MSMProbabilities(msmlag=msmlag, reversible=False))\n",
    "            est.estimate(states[0].astype(int), states[1].astype(int))\n",
    "\n",
    "            te_forw[n, m, t] = est.d\n",
    "            \n",
    "            est = inf.TransferEntropy(inf.MSMProbabilities(msmlag=msmlag, reversible=False))\n",
    "            est.estimate(states[1].astype(int), states[0].astype(int))\n",
    "            te_backw[n, m, t] = est.d\n",
    "\n",
    "            # save neighbor tmat element for later analysis\n",
    "            spin_stability_neighbor[n, m, t] = est.p_estimator.tmat_y[0, 0]\n",
    "\n",
    "            # 1.2 reversible\n",
    "            est = inf.TransferEntropy(inf.MSMProbabilities(msmlag=msmlag, reversible=True))\n",
    "            est.estimate(states[0].astype(int), states[1].astype(int))\n",
    "\n",
    "            te_forw_rev[n, m, t] = est.d\n",
    "            \n",
    "            est = inf.TransferEntropy(inf.MSMProbabilities(msmlag=msmlag, reversible=True))\n",
    "            est.estimate(states[1].astype(int)[:-1], states[0].astype(int)[1:])\n",
    "            te_backw_rev[n, m, t] = est.d\n",
    "            \n",
    "            # 1.4 DI estimator\n",
    "            p = inf.MSMProbabilities(msmlag=msmlag, reversible=False)\n",
    "            est = inf.DirectedInformation(p)\n",
    "            est.estimate(states[0].astype(int), states[1].astype(int))\n",
    "\n",
    "            d[n, m, t] = est.d\n",
    "            \n",
    "            p = inf.MSMProbabilities(msmlag=msmlag, reversible=False)\n",
    "            est = inf.DirectedInformation(p)\n",
    "            est.estimate(states[1].astype(int)[:-1], states[0].astype(int)[1:])\n",
    "            \n",
    "            r[n, m, t] = est.d\n",
    "            \n",
    "            \n",
    "            # 1.5 I4 estimator\n",
    "            p = inf.MSMProbabilities(msmlag=msmlag, reversible=False)\n",
    "            est = inf.JiaoI4(p)\n",
    "            est.estimate(states[0].astype(int), states[1].astype(int))\n",
    "\n",
    "            d_i4[n, m, t] = est.d\n",
    "            \n",
    "            p = inf.MSMProbabilities(msmlag=msmlag, reversible=False)\n",
    "            est = inf.JiaoI4(p)\n",
    "            est.estimate(states[1].astype(int)[:-1], states[0].astype(int)[1:])\n",
    "            \n",
    "            r_i4[n, m, t] = est.d\n",
    "            \n",
    "\n",
    "            #### 2 control\n",
    "            # 2.1 non-reversible\n",
    "            est = inf.TransferEntropy(inf.MSMProbabilities(msmlag=msmlag, reversible=False))\n",
    "            est.estimate(states[5].astype(int), states[6].astype(int))\n",
    "\n",
    "            te_forw_control[n, m, t] = est.d\n",
    "            \n",
    "            est = inf.TransferEntropy(inf.MSMProbabilities(msmlag=msmlag, reversible=False))\n",
    "            est.estimate(states[6].astype(int), states[5].astype(int))\n",
    "            \n",
    "            te_backw_control[n, m, t] = est.d\n",
    "\n",
    "            # save random tmat element for later analysis\n",
    "            spin_stability_random[n, m, t] = est.p_estimator.tmat_x[0, 0]\n",
    "\n",
    "            # 2.2 rev \n",
    "            est = inf.TransferEntropy(inf.MSMProbabilities(msmlag=msmlag, reversible=True))\n",
    "            est.estimate(states[5].astype(int), states[6].astype(int))\n",
    "\n",
    "            te_forw_rev_control[n, m, t] = est.d\n",
    "            \n",
    "            est = inf.TransferEntropy(inf.MSMProbabilities(msmlag=msmlag, reversible=True))\n",
    "            est.estimate(states[6].astype(int), states[5].astype(int))\n",
    "            te_backw_rev_control[n, m, t] = est.d\n",
    "\n",
    "            \n",
    "            # 2.5 DI control\n",
    "            p = inf.MSMProbabilities(msmlag=msmlag, reversible=False)\n",
    "            est = inf.DirectedInformation(p)\n",
    "            est.estimate(states[5].astype(int), states[6].astype(int))\n",
    "\n",
    "            d_control[n, m, t] = est.d\n",
    "            \n",
    "            p = inf.MSMProbabilities(msmlag=msmlag, reversible=False)\n",
    "            est = inf.DirectedInformation(p)\n",
    "            est.estimate(states[6].astype(int), states[5].astype(int))\n",
    "\n",
    "\n",
    "            r_control[n, m, t] = est.d\n",
    "            \n",
    "            # 2.5 I4 control\n",
    "            p = inf.MSMProbabilities(msmlag=msmlag, reversible=False)\n",
    "            est = inf.JiaoI4(p)\n",
    "            est.estimate(states[5].astype(int), states[6].astype(int))\n",
    "\n",
    "            d_i4_control[n, m, t] = est.d\n",
    "            \n",
    "            p = inf.MSMProbabilities(msmlag=msmlag, reversible=False)\n",
    "            est = inf.JiaoI4(p)\n",
    "            est.estimate(states[6].astype(int), states[5].astype(int))\n",
    "\n",
    "\n",
    "            r_i4_control[n, m, t] = est.d"
   ]
  },
  {
   "cell_type": "markdown",
   "metadata": {},
   "source": [
    "### Figure 3 of paper\n",
    "This figure only shows the most important things. Scroll down for other estimates."
   ]
  },
  {
   "cell_type": "code",
   "execution_count": 8,
   "metadata": {
    "ExecuteTime": {
     "end_time": "2024-01-21T14:51:18.102029Z",
     "start_time": "2024-01-21T14:51:18.095296Z"
    }
   },
   "outputs": [],
   "source": [
    "mpl.rcParams['axes.titlesize'] = 11\n",
    "mpl.rcParams['axes.titleweight'] = 'bold'\n",
    "mpl.rcParams['axes.labelsize'] = 11\n",
    "mpl.rcParams['legend.fontsize'] = 11\n",
    "mpl.rcParams['xtick.labelsize'] = 11\n",
    "mpl.rcParams['ytick.labelsize'] = 11\n",
    "mpl.rcParams['xtick.minor.pad'] = 2\n",
    "mpl.rcParams['xtick.major.pad'] = 3\n",
    "mpl.rcParams['ytick.minor.pad'] = 2\n",
    "mpl.rcParams['ytick.major.pad'] = 3\n",
    "mpl.rcParams['axes.labelpad'] = 1\n",
    "mpl.rcParams['lines.markersize'] = 4"
   ]
  },
  {
   "cell_type": "code",
   "execution_count": 25,
   "metadata": {
    "ExecuteTime": {
     "end_time": "2024-01-21T15:11:02.562000Z",
     "start_time": "2024-01-21T15:11:01.243300Z"
    }
   },
   "outputs": [
    {
     "data": {
      "image/png": "[encoded data removed]",
      "text/plain": [
       "<Figure size 324x216 with 5 Axes>"
      ]
     },
     "metadata": {
      "needs_background": "light"
     },
     "output_type": "display_data"
    }
   ],
   "source": [
    "# $fig, ax = plt.subplots(2, 2, sharex=True, sharey=False, gridspec_kw={'hspace':0, 'wspace':0},\n",
    "#                        figsize=(3., 3.0))\n",
    "\n",
    "fig = plt.figure(figsize=(4.5, 3.0))\n",
    "gs = mpl.gridspec.GridSpec(100, 100)\n",
    "ax = np.array([[fig.add_subplot(gs[:35, :50]), fig.add_subplot(gs[:35, 50:])],\n",
    "             [fig.add_subplot(gs[35:70, :50]), fig.add_subplot(gs[35:70, 50:])]])\n",
    "\n",
    "x = coupling_js\n",
    "y = driver_ps\n",
    "\n",
    "zs = [(te_forw-te_backw).mean(axis=2), \n",
    "      (d-r).mean(axis=2)]\n",
    "z_contrls = [(te_forw_control-te_backw_control).mean(axis=2), \n",
    "             (d_control-r_control).mean(axis=2)]\n",
    "\n",
    "vmax = max([z.max() for z in zs + z_contrls])\n",
    "vmin = -vmax\n",
    "\n",
    "normalizer = mpl.colors.Normalize(vmax, vmin)\n",
    "\n",
    "imgs = []\n",
    "for z, z_contrl, ax_col in zip(zs, z_contrls, ax.T):\n",
    "    \n",
    "    i = ax_col[0].contourf(x, y, z, 30, vmin=vmin, vmax=vmax, norm=normalizer, cmap='seismic')\n",
    "    icontr = ax_col[1].contourf(x, y, z_contrl, 30, vmin=vmin, vmax=vmax, norm=normalizer, cmap='seismic')\n",
    "    imgs += [i, icontr]\n",
    "\n",
    "for _ax in ax.flat:\n",
    "    _ax.semilogx()\n",
    "\n",
    "ax[1, 0].set_xlabel('coupling constant', ha='left')\n",
    "ax[1, 1].tick_params(axis='x', which='minor')\n",
    "\n",
    "#_ax = ax[1, 1]\n",
    "locmin = mpl.ticker.LogLocator(base=10.0,subs=(.1, 0.2,.3, 0.4,.5, 0.6,.7,0.8,.9), numticks=12)\n",
    "for _ax in ax[1, :]:\n",
    "    _ax.xaxis.set_minor_locator(locmin)\n",
    "    _ax.xaxis.set_minor_formatter(mpl.ticker.NullFormatter())\n",
    "\n",
    "\n",
    "ax[0, -1].set_ylabel('transition\\nprob', ha='right', va='bottom')\n",
    "\n",
    "ax[0, 0].set_ylabel('(a)', labelpad=10, fontweight='bold', rotation=0)\n",
    "ax[1, 0].set_ylabel('(b)', labelpad=10, fontweight='bold', rotation=0)\n",
    "ax[0, -1].yaxis.set_label_position('right')\n",
    "ax[1, -1].yaxis.set_label_position('right')\n",
    "ax[0, 0].set_title('TE')\n",
    "ax[0, 1].set_title('DI')\n",
    "\n",
    "for _ax in ax[:, :-1].flat: _ax.set_yticks([])\n",
    "for _ax in ax[:, -1]: _ax.yaxis.tick_right()\n",
    "for _ax in ax[0, :]: _ax.set_xticks([])\n",
    "\n",
    "\n",
    "\n",
    "# colorbar\n",
    "\n",
    "ax_col = fig.add_subplot(gs[98:, :])\n",
    "i = mpl.cm.ScalarMappable(norm=normalizer, cmap='seismic')\n",
    "\n",
    "cbar = fig.colorbar(i,\n",
    "                    orientation='horizontal', cax=ax_col)#, pad=.3, shrink=.9)\n",
    "ticks = [cbar.get_ticks()[0], cbar.get_ticks()[-1]]\n",
    "if 0 not in ticks:\n",
    "    ticks.insert(1, 0)\n",
    "cbar.set_ticks(ticks)\n",
    "cbar.ax.set_xticklabels(['{:.3f}'.format(f) for f in ticks], rotation=90)\n",
    "\n",
    "fig.savefig('/home/mi/thempel/Dokumente/Papers/paper_directed_networks/gfx/ising_te_di.pdf', bbox_inches='tight')"
   ]
  },
  {
   "cell_type": "markdown",
   "metadata": {},
   "source": [
    "### also compute CTW estimators for comparison\n",
    "NOTES:\n",
    "- CTW: have to time-lag trajectories, otherwise numerical values are different. makes sense as the MSM is also returning probabilities of that lag time and values have to be comparable.\n",
    "- use a memory depth of 3, i.e., follow history up to 3 steps into the past\n",
    "- computation is super slow...\n"
   ]
  },
  {
   "cell_type": "code",
   "execution_count": 8,
   "metadata": {},
   "outputs": [],
   "source": [
    "from pathos.multiprocessing import Pool\n",
    "from contextlib import closing\n",
    "\n",
    "CTW_VARNAMES = ['_d_i3_ctw', '_d_i4_ctw', '_r_i3_ctw', '_r_i4_ctw', \n",
    "           '_d_i3_ctw_control', '_d_i4_ctw_control', '_r_i3_ctw_control', '_r_i4_ctw_control']\n",
    "\n",
    "\n",
    "def compute_ctw(states):\n",
    "    \"\"\"\n",
    "    compute all ctw estimators; \n",
    "    ATTENTION: trajectories will be time lagged.\n",
    "    \"\"\"\n",
    "    \n",
    "    # 1.4 driver - neighbor estimates\n",
    "    # forward\n",
    "    states_0 = inf.utils.lag_observations([states[0]], msmlag)\n",
    "    states_1 = inf.utils.lag_observations([states[1]], msmlag)\n",
    "    \n",
    "    p = inf.CTWProbabilities(D=3)\n",
    "    est = inf.JiaoI3(p)\n",
    "    \n",
    "\n",
    "    est.estimate(states_0, states_1)\n",
    "    _d_i3_ctw = est.d\n",
    "\n",
    "    est = inf.JiaoI4(p)\n",
    "    est.estimate(states_0, states_1)\n",
    "    _d_i4_ctw = est.d\n",
    "\n",
    "    # backward\n",
    "    p = inf.CTWProbabilities(D=3)\n",
    "    est = inf.JiaoI3(p)\n",
    "    est.estimate(states_1, states_0)\n",
    "    _r_i3_ctw = est.d\n",
    "\n",
    "    est = inf.JiaoI4(p)\n",
    "    est.estimate(states_1, states_0)\n",
    "    _r_i4_ctw = est.d\n",
    "\n",
    "    #### 2 control\n",
    "    # control estimates\n",
    "    # forward\n",
    "    \n",
    "    states_5 = inf.utils.lag_observations([states[5]], msmlag)\n",
    "    states_6 = inf.utils.lag_observations([states[6]], msmlag)\n",
    "    \n",
    "    p = inf.CTWProbabilities(D=3)\n",
    "    est = inf.JiaoI3(p)\n",
    "    est.estimate(states_5, states_6)\n",
    "    _d_i3_ctw_control = est.d\n",
    "\n",
    "    est = inf.JiaoI4(p)\n",
    "    est.estimate(states_5, states_6)\n",
    "    _d_i4_ctw_control = est.d\n",
    "\n",
    "    # backward\n",
    "    p = inf.CTWProbabilities(D=3)\n",
    "    est = inf.JiaoI3(p)\n",
    "    est.estimate(states_6, states_5)\n",
    "    _r_i3_ctw_control = est.d\n",
    "\n",
    "    est = inf.JiaoI4(p)\n",
    "    est.estimate(states_6, states_5)\n",
    "    _r_i4_ctw_control = est.d\n",
    "    return_ = {}\n",
    "    for name in CTW_VARNAMES:\n",
    "        return_[name] = eval(name)\n",
    "    return return_"
   ]
  },
  {
   "cell_type": "code",
   "execution_count": null,
   "metadata": {},
   "outputs": [],
   "source": [
    "pool = Pool(processes=8)\n",
    "\n",
    "\n",
    "# flatten array\n",
    "args = []\n",
    "t = 0 # only one trial\n",
    "for n, p_self in enumerate(driver_ps):\n",
    "    for m, p in enumerate(coupling_js):\n",
    "        args.append((n, m, states_allruns[n, m, t]))\n",
    "\n",
    "pbar = tqdm(total=len(args))\n",
    "with closing(pool):\n",
    "    res_async = [pool.apply_async(compute_ctw, (a[2], ), callback=lambda _: pbar.update(1)) for a in args]\n",
    "    results = [(a[0], a[1], x.get()) for a, x in zip(args, res_async)]\n",
    "    \n",
    "pbar.close()"
   ]
  },
  {
   "cell_type": "code",
   "execution_count": 13,
   "metadata": {},
   "outputs": [
    {
     "name": "stdout",
     "output_type": "stream",
     "text": [
      "0 of 3\n"
     ]
    }
   ],
   "source": [
    "d_i3_ctw = np.zeros(ashape)\n",
    "r_i3_ctw = np.zeros(ashape)\n",
    "d_i4_ctw = np.zeros(ashape)\n",
    "r_i4_ctw = np.zeros(ashape)\n",
    "\n",
    "d_i3_ctw_control = np.zeros(ashape)\n",
    "r_i3_ctw_control = np.zeros(ashape)\n",
    "\n",
    "d_i4_ctw_control = np.zeros(ashape)\n",
    "r_i4_ctw_control = np.zeros(ashape)\n",
    "\n",
    "\n",
    "#for t in range(n_trails):\n",
    "\n",
    "print('{} of {}'.format(t, n_trails))\n",
    "\n",
    "for n, m, res in results:\n",
    "    d_i3_ctw[n, m, t] = res['_d_i3_ctw']\n",
    "    d_i4_ctw[n, m, t] = res['_d_i4_ctw']\n",
    "    r_i3_ctw[n, m, t] = res['_r_i3_ctw']\n",
    "    r_i4_ctw[n, m, t] = res['_r_i4_ctw']\n",
    "    \n",
    "    d_i3_ctw_control[n, m, t] = res['_d_i3_ctw_control']\n",
    "    d_i4_ctw_control[n, m, t] = res['_d_i4_ctw_control']\n",
    "    \n",
    "    r_i3_ctw_control[n, m, t] = res['_r_i4_ctw_control']\n",
    "    r_i4_ctw_control[n, m, t] = res['_r_i4_ctw_control']"
   ]
  },
  {
   "cell_type": "code",
   "execution_count": 14,
   "metadata": {},
   "outputs": [],
   "source": [
    "np.savez('glauber_states_ctw.npz', \n",
    "         d_i3_ctw=d_i3_ctw, r_i3_ctw=r_i3_ctw, \n",
    "         d_i4_ctw=d_i4_ctw, r_i4_ctw=r_i4_ctw,\n",
    "         d_i3_ctw_control=d_i3_ctw_control, r_i3_ctw_control=r_i3_ctw_control,\n",
    "         d_i4_ctw_control=d_i4_ctw_control, r_i4_ctw_control=r_i4_ctw_control)"
   ]
  },
  {
   "cell_type": "code",
   "execution_count": 20,
   "metadata": {
    "ExecuteTime": {
     "end_time": "2024-01-21T15:00:09.969396Z",
     "start_time": "2024-01-21T15:00:09.951322Z"
    }
   },
   "outputs": [],
   "source": [
    "ctw_data = np.load('glauber_states_ctw.npz')"
   ]
  },
  {
   "cell_type": "code",
   "execution_count": 21,
   "metadata": {
    "ExecuteTime": {
     "end_time": "2024-01-21T15:01:20.154444Z",
     "start_time": "2024-01-21T15:01:20.099192Z"
    }
   },
   "outputs": [],
   "source": [
    "d_i3_ctw = ctw_data[\"d_i3_ctw\"]\n",
    "r_i3_ctw = ctw_data[\"r_i3_ctw\"]\n",
    "d_i4_ctw = ctw_data[\"d_i4_ctw\"]\n",
    "r_i4_ctw = ctw_data[\"r_i4_ctw\"]\n",
    "d_i3_ctw_control = ctw_data[\"d_i3_ctw_control\"]\n",
    "r_i3_ctw_control = ctw_data[\"r_i3_ctw_control\"]\n",
    "d_i4_ctw_control = ctw_data[\"d_i4_ctw_control\"]\n",
    "r_i4_ctw_control = ctw_data[\"r_i4_ctw_control\"]"
   ]
  },
  {
   "cell_type": "markdown",
   "metadata": {},
   "source": [
    "### plot all estimators: SI Fig. 1"
   ]
  },
  {
   "cell_type": "code",
   "execution_count": 26,
   "metadata": {
    "ExecuteTime": {
     "end_time": "2024-01-21T15:11:41.916041Z",
     "start_time": "2024-01-21T15:11:37.833491Z"
    }
   },
   "outputs": [
    {
     "data": {
      "image/png": "[encoded data removed]",
      "text/plain": [
       "<Figure size 864x432 with 18 Axes>"
      ]
     },
     "metadata": {
      "needs_background": "light"
     },
     "output_type": "display_data"
    }
   ],
   "source": [
    "fig, ax = plt.subplots(2, 6, sharex=True, sharey=True, figsize=(12, 6))\n",
    "\n",
    "x = coupling_js\n",
    "y = driver_ps\n",
    "\n",
    "zs = [(te_forw-te_backw).mean(axis=2), \n",
    "      (d-r).mean(axis=2), \n",
    "      (d_i4-r_i4).mean(axis=2), \n",
    "      (te_forw_rev-te_backw_rev).mean(axis=2),\n",
    "      (d_i3_ctw-r_i3_ctw)[:, :, 0], # THE OTHER ONES ARE NOT COMPUTED!\n",
    "     (d_i4_ctw-r_i4_ctw)[:, :, 0] # same\n",
    "     ]\n",
    "z_contrls = [(te_forw_control-te_backw_control).mean(axis=2), \n",
    "             (d_control-r_control).mean(axis=2), \n",
    "             (d_i4_control-r_i4_control).mean(axis=2), \n",
    "             (te_forw_rev_control-te_backw_rev_control).mean(axis=2), \n",
    "            (d_i3_ctw_control-r_i3_ctw_control)[:, :, 0], ###\n",
    "            (d_i4_ctw_control-r_i4_ctw_control)[:, :, 0] ###\n",
    "            ]\n",
    "\n",
    "imgs = []\n",
    "for z, z_contrl, ax_col in zip(zs, z_contrls, ax.T):\n",
    "\n",
    "    vmax = max(z.max(), z_contrl.max())\n",
    "    vmin = -vmax\n",
    "    i = ax_col[0].contourf(x, y, z, 30, vmin=vmin, vmax=vmax, cmap='seismic')\n",
    "    ax_col[1].contourf(x, y, z_contrl, 30, vmin=vmin, vmax=vmax, cmap='seismic')\n",
    "    imgs.append(i)\n",
    "\n",
    "ax[0, 0].semilogx()\n",
    "\n",
    "for _ax in ax[1, :]: _ax.set_xlabel('coupling constant')\n",
    "for _ax in ax[:, 0]: _ax.set_ylabel('driver transition prob')\n",
    "ax[0, -1].set_ylabel('driver -> other')\n",
    "ax[1, -1].set_ylabel('other1 -> other2')\n",
    "ax[0, -1].yaxis.set_label_position('right')\n",
    "ax[1, -1].yaxis.set_label_position('right')\n",
    "ax[0, 0].set_title('TE')\n",
    "ax[0, 1].set_title('DI')\n",
    "ax[0, 2].set_title('DI (Jiao I4, MSM)')\n",
    "ax[0, 3].set_title('TE (rev MSMs)')\n",
    "ax[0, 4].set_title('DI (Jiao I3, CTW)')\n",
    "ax[0, 5].set_title('DI (Jiao I4, CTW)')\n",
    "#ax[0,0].loglog()\n",
    "fig.tight_layout()\n",
    "\n",
    "# colorbars\n",
    "for i, ax_col in zip(imgs, ax.T):\n",
    "    cbar = fig.colorbar(i, orientation='horizontal', ax=ax_col)\n",
    "    ticks = [cbar.get_ticks()[0], cbar.get_ticks()[-1]]\n",
    "    if 0 not in ticks:\n",
    "        ticks.insert(1, 0)\n",
    "    cbar.set_ticks(ticks)\n",
    "    cbar.ax.set_xticklabels(['{:.3f}'.format(f) for f in ticks], rotation=90)\n",
    "    \n",
    "fig.savefig('/home/mi/thempel/Dokumente/Papers/paper_directed_networks/gfx/ising_all_methods.pdf',\n",
    "           bbox_inches='tight')"
   ]
  },
  {
   "cell_type": "markdown",
   "metadata": {},
   "source": [
    "### plot raw values without taking difference\n",
    "Not used in paper, only for understanding"
   ]
  },
  {
   "cell_type": "code",
   "execution_count": 23,
   "metadata": {
    "ExecuteTime": {
     "end_time": "2024-01-21T15:02:11.951221Z",
     "start_time": "2024-01-21T15:02:07.719898Z"
    }
   },
   "outputs": [
    {
     "data": {
      "image/png": "[encoded data removed]",
      "text/plain": [
       "<Figure size 864x432 with 24 Axes>"
      ]
     },
     "metadata": {
      "needs_background": "light"
     },
     "output_type": "display_data"
    }
   ],
   "source": [
    "fig, ax = plt.subplots(3, 6, sharex=True, sharey=True, figsize=(12, 6))\n",
    "\n",
    "x = coupling_js\n",
    "y = driver_ps\n",
    "\n",
    "zs = [(te_forw).mean(axis=2), \n",
    "      (d).mean(axis=2), \n",
    "      (d_i4).mean(axis=2), \n",
    "      (te_forw_rev).mean(axis=2),\n",
    "      (d_i3_ctw)[:, :, 0],\n",
    "     (d_i4_ctw)[..., 0]]\n",
    "zs_backw = [(te_backw).mean(axis=2), \n",
    "             (r).mean(axis=2), \n",
    "             (r_i4).mean(axis=2), \n",
    "             (te_backw_rev).mean(axis=2), \n",
    "            (r_i3_ctw)[:, :, 0],\n",
    "            (r_i4_ctw)[:, :, 0]]\n",
    "\n",
    "\n",
    "vmax = max([z.max() for z in zs + z_contrls])\n",
    "vmin = -vmax\n",
    "normalizer = mpl.colors.Normalize(vmax, vmin)\n",
    "\n",
    "imgs = []\n",
    "for z, z_backw, ax_col in zip(zs, zs_backw, ax.T):\n",
    "    i = ax_col[0].contourf(x, y, z, 30, vmin=vmin, vmax=vmax, cmap='seismic')\n",
    "    ax_col[1].contourf(x, y, z_backw, 30, vmin=vmin, vmax=vmax, cmap='seismic')\n",
    "    ax_col[2].contourf(x, y, z-z_backw, 30, vmin=vmin, vmax=vmax, cmap='seismic')\n",
    "    imgs.append(i)\n",
    "\n",
    "ax[0, 0].semilogx()\n",
    "\n",
    "for _ax in ax[1, :]: _ax.set_xlabel('coupling constant')\n",
    "\n",
    "ax[0, 0].set_ylabel('forward')\n",
    "ax[1, 0].set_ylabel('backward')\n",
    "ax[2, 0].set_ylabel('difference')\n",
    "ax[1, -1].yaxis.set_label_position('right')\n",
    "for _ax in ax[:, -1]: _ax.yaxis.set_ticks_position('right')\n",
    "ax[1, -1].set_ylabel('driver transition prob')\n",
    "ax[0, 0].set_title('TE')\n",
    "ax[0, 1].set_title('DI')\n",
    "ax[0, 2].set_title('DI (Jiao I4, MSM)')\n",
    "ax[0, 3].set_title('TE (rev MSMs)')\n",
    "ax[0, 4].set_title('DI (Jiao I3, CTW)')\n",
    "ax[0, 5].set_title('DI (Jiao I4, CTW)')\n",
    "#ax[0,0].loglog()\n",
    "fig.tight_layout()\n",
    "\n",
    "# colorbars\n",
    "for i, ax_col in zip(imgs, ax.T):\n",
    "    cbar = fig.colorbar(i, orientation='horizontal', ax=ax_col)\n",
    "    ticks = [cbar.get_ticks()[0], cbar.get_ticks()[-1]]\n",
    "    if 0 not in ticks:\n",
    "        ticks.insert(1, 0)\n",
    "    cbar.set_ticks(ticks)\n",
    "    cbar.ax.set_xticklabels(['{:.3f}'.format(f) for f in ticks], rotation=90)\n"
   ]
  },
  {
   "cell_type": "code",
   "execution_count": null,
   "metadata": {},
   "outputs": [],
   "source": []
  },
  {
   "cell_type": "code",
   "execution_count": null,
   "metadata": {},
   "outputs": [],
   "source": []
  }
 ],
 "metadata": {
  "kernelspec": {
   "display_name": "py37_feb21",
   "language": "python",
   "name": "py37_feb21"
  },
  "language_info": {
   "codemirror_mode": {
    "name": "ipython",
    "version": 3
   },
   "file_extension": ".py",
   "mimetype": "text/x-python",
   "name": "python",
   "nbconvert_exporter": "python",
   "pygments_lexer": "ipython3",
   "version": "3.8.8"
  }
 },
 "nbformat": 4,
 "nbformat_minor": 2
}
