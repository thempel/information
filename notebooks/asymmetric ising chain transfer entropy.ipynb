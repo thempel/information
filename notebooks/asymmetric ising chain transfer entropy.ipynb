{
 "cells": [
  {
   "cell_type": "code",
   "execution_count": null,
   "metadata": {},
   "outputs": [],
   "source": [
    "import numpy as np\n",
    "import itertools\n",
    "import sys\n",
    "import matplotlib.pyplot as plt\n",
    "%matplotlib inline"
   ]
  },
  {
   "cell_type": "code",
   "execution_count": null,
   "metadata": {},
   "outputs": [],
   "source": [
    "sys.path.append('/home/mi/thempel/code/information/')\n",
    "import informant as inf"
   ]
  },
  {
   "cell_type": "markdown",
   "metadata": {},
   "source": [
    "## Directed Information & Ising models\n",
    "1. goal: Identify coupling qualitatively\n",
    "2. goal: Set-up a driven Ising system and identify the \"causal\" spin\n",
    "\n",
    "### Simple Ising model"
   ]
  },
  {
   "cell_type": "code",
   "execution_count": null,
   "metadata": {},
   "outputs": [],
   "source": [
    "class OneDeeIsing(object):\n",
    "    def __init__(self, nspins = 4, coupling = 1.0, invtemp = 1.):\n",
    "    #initiate random state\n",
    "        self._state = np.ones(nspins)\n",
    "        for i,_s in enumerate(self._state):\n",
    "            if np.random.rand()>0.5:\n",
    "                self._state[i] = -1*self._state[i]\n",
    "\n",
    "        self._nspins = nspins\n",
    "        self._coupling = coupling\n",
    "        self._beta = invtemp\n",
    "\n",
    "        self._stayed = 0\n",
    "  \n",
    "    def tot_energy(self):\n",
    "        return -self._coupling*(np.sum(self._state*np.roll(self._state, -1)) + np.sum(self._state*np.roll(self._state, 1)))\n",
    "\n",
    "    def _energy_pos(self, i):\n",
    "        return -self._coupling*(self._state[i-1]*self._state[i] + self._state[i]*self._state[(i+1)%self._nspins])\n",
    "\n",
    "    def energy_pos(self, i):\n",
    "        return self._energy_pos(i-1) +  self._energy_pos(i) + self._energy_pos((i+1)%self._nspins)\n",
    "\n",
    "    def move(self, pos):\n",
    "        prev_energy = self.tot_energy() #self.energy_pos(pos)\n",
    "        __flip = np.random.choice([-1., 1.])\n",
    "        self._state[pos] = __flip*self._state[pos]\n",
    "        new_energy = self.tot_energy() #self.energy_pos(pos)\n",
    "        if new_energy < prev_energy:\n",
    "            pass\n",
    "        else:\n",
    "            dE = new_energy - prev_energy\n",
    "            if np.random.rand()>np.exp(-dE*self._beta):\n",
    "                self._state[pos] = __flip*self._state[pos]\n",
    "\n",
    "    def sweep(self):\n",
    "        _ris = np.random.randint(0, self._state.shape[0], self._state.shape[0])\n",
    "        for i in _ris :\n",
    "            self.move(i)\n",
    "\n",
    "    def driven_sweep(self, index=0, staytime=10):\n",
    "        self._state[index] = - self._state[index] if np.random.rand() > .92 else self._state[index]\n",
    "        \n",
    "        _ris = np.random.choice(list(range(0, index)) + list(range(index+1, self._state.shape[0])), self._state.shape[0])\n",
    "        for i in _ris :\n",
    "            self.move(i)"
   ]
  },
  {
   "cell_type": "markdown",
   "metadata": {},
   "source": [
    "#### Ising standard variant, symmetric coupling"
   ]
  },
  {
   "cell_type": "code",
   "execution_count": null,
   "metadata": {},
   "outputs": [],
   "source": [
    "Ising = OneDeeIsing(nspins = 13, coupling = .5, invtemp = 1.0)\n",
    "states = Ising._state.reshape(-1,1)\n",
    "energies = [Ising.tot_energy()]\n",
    "\n",
    "for i in range(10000):\n",
    "    Ising.sweep()\n",
    "    states = np.hstack((states, Ising._state.reshape(-1,1)))\n",
    "    energies.append(Ising.tot_energy())\n",
    "\n",
    "\n",
    "fig, ax = plt.subplots(3,1, figsize=(10, 5))\n",
    "\n",
    "ax[0].plot(energies)\n",
    "ax[0].set_xlabel('Sweep count')\n",
    "ax[0].set_ylabel('Total system energy')\n",
    "\n",
    "ax[1].plot(states.mean(axis=0) )#32, histtype = 'step', log=True)\n",
    "ax[1].set_ylabel('Effective magnetisation')\n",
    "ax[1].set_xlabel('Sweep count')\n",
    "\n",
    "_c = ax[2].imshow(states[:, :100])\n",
    "ax[2].set_xlabel('Sweep count')\n",
    "ax[2].set_ylabel('state of spins')\n",
    "fig.colorbar(_c)"
   ]
  },
  {
   "cell_type": "code",
   "execution_count": null,
   "metadata": {},
   "outputs": [],
   "source": [
    "plt.plot(states[0][:100])\n",
    "plt.plot(states[1][:100])"
   ]
  },
  {
   "cell_type": "code",
   "execution_count": null,
   "metadata": {},
   "outputs": [],
   "source": [
    "A, B = (states[1]==1).astype(int), (states[0]==1).astype(int)"
   ]
  },
  {
   "cell_type": "code",
   "execution_count": null,
   "metadata": {},
   "outputs": [],
   "source": [
    "msmlags = range(1, 30, 2)\n",
    "\n",
    "r = np.zeros((len(msmlags), 3))\n",
    "\n",
    "for n, lag in enumerate(msmlags):\n",
    "    est = inf.TransferEntropy(inf.MSMProbabilities(msmlag=lag, reversible=False, tmat_ck_estimate=False))\n",
    "    est.symmetrized_estimate(A, B)\n",
    "    r[n, :] = [est.d, est.r, inf.MutualInfoStationaryDistribution(est.p_estimator).estimate(A, B).m]"
   ]
  },
  {
   "cell_type": "code",
   "execution_count": null,
   "metadata": {},
   "outputs": [],
   "source": [
    "fig, ax = plt.subplots()\n",
    "for label, line in zip(['d', 'r', 'm'], r.T):\n",
    "    if label == 'm':\n",
    "        tax = ax.twinx()\n",
    "        tax.plot(msmlags, line, '.-', label=label)\n",
    "    else:\n",
    "        ax.plot(msmlags, line, '.-', label=label, )\n",
    "\n",
    "tax.set_ylim(.4, .5)\n",
    "ax.set_xlabel('msm lagtime')\n",
    "ax.legend()"
   ]
  },
  {
   "cell_type": "code",
   "execution_count": null,
   "metadata": {},
   "outputs": [],
   "source": [
    "mmat = np.zeros((states.shape[0], states.shape[0])) + np.NaN\n",
    "dmat = np.zeros((states.shape[0], states.shape[0])) + np.NaN\n",
    "rmat = np.zeros((states.shape[0], states.shape[0])) + np.NaN\n",
    "\n",
    "lags = range(1, 11)\n",
    "for i, j in itertools.combinations(range(states.shape[0]), 2):\n",
    "    #d, r, m = dir_info((states[i]==1).astype(int), (states[j]==1).astype(int), msmlag=2)\n",
    "    p = inf.MSMProbabilities(msmlag=2, reversible=False, tmat_ck_estimate=False)\n",
    "    est = inf.TransferEntropy(p)\n",
    "    est.symmetrized_estimate((states[i]==1).astype(int), (states[j]==1).astype(int))\n",
    "    dmat[i, j] = est.d #d\n",
    "    dmat[j, i] = est.r #r\n",
    "    rmat[i, j] = est.r #r\n",
    "    \n",
    "    mmat[i, j] = inf.MutualInfoStationaryDistribution(p).estimate((states[i]==1).astype(int), (states[j]==1).astype(int)).m"
   ]
  },
  {
   "cell_type": "code",
   "execution_count": null,
   "metadata": {},
   "outputs": [],
   "source": [
    "fig, ax = plt.subplots(1, 2, figsize=(10, 4))\n",
    "\n",
    "i = ax[0].imshow(dmat)\n",
    "ax[0].set_title('transfer entropy(i -> j)')\n",
    "fig.colorbar(i, ax=ax[0])\n",
    "i=ax[1].imshow(mmat)\n",
    "ax[1].set_title('mutual info(i, j)')\n",
    "fig.colorbar(i, ax=ax[1])"
   ]
  },
  {
   "cell_type": "code",
   "execution_count": null,
   "metadata": {},
   "outputs": [],
   "source": [
    "def correlation(all_a, lag = 0):\n",
    "    return np.mean(np.vstack([[np.dot(a[i][:, None], a[i+lag][None, :]) for i in range(len(a)-lag)] for a in all_a]), axis = 0)\n",
    "        \n",
    "def partial_correlation(a, lag = 0, zero_diags=True):\n",
    "    #compute correlation matrix\n",
    "    _corrmat = correlation(a, lag = lag) #np.mean([ np.dot(l[:, None], l[None, :]) for l in a], axis = 0)\n",
    "    #compute inverse\n",
    "    ivm = np.linalg.inv(_corrmat)\n",
    "    #compute normalization from diagonal elements\n",
    "    divm = np.diag(ivm)\n",
    "    _norm = np.outer(divm, divm)\n",
    "    #normalize \n",
    "    out = -ivm/np.sqrt(_norm)\n",
    "    #fill zeros on diagonal?\n",
    "    if zero_diags:\n",
    "        np.fill_diagonal(out, 0.)\n",
    "    return out "
   ]
  },
  {
   "cell_type": "code",
   "execution_count": null,
   "metadata": {},
   "outputs": [],
   "source": [
    "plt.scatter(mmat.ravel(), correlation([states.T]).ravel())\n",
    "plt.scatter(dmat.ravel(), correlation([states.T]).ravel(),color='r')"
   ]
  },
  {
   "cell_type": "markdown",
   "metadata": {},
   "source": [
    "Coupling among neighbors identified; no assymetry in transfer entropy "
   ]
  },
  {
   "cell_type": "markdown",
   "metadata": {},
   "source": [
    "### driven Ising model\n",
    "One spin changes sign as an independent Markov chain and is not influenced by the rest. This example: Spin 10."
   ]
  },
  {
   "cell_type": "code",
   "execution_count": null,
   "metadata": {},
   "outputs": [],
   "source": [
    "Ising = OneDeeIsing(nspins = 13, coupling = 1, invtemp = 1.0)\n",
    "states = Ising._state.reshape(-1,1)\n",
    "energies = [Ising.tot_energy()]\n",
    "\n",
    "for i in range(10000):\n",
    "    Ising.driven_sweep(index=10)\n",
    "    states = np.hstack((states, Ising._state.reshape(-1,1)))\n",
    "    energies.append(Ising.tot_energy())\n",
    "\n",
    "\n",
    "fig, ax = plt.subplots(3,1, figsize=(10, 5))\n",
    "\n",
    "ax[0].plot(energies)\n",
    "ax[0].set_xlabel('Sweep count')\n",
    "ax[0].set_ylabel('Total system energy')\n",
    "\n",
    "ax[1].plot(states.mean(axis=0) )#32, histtype = 'step', log=True)\n",
    "ax[1].set_ylabel('Effective magnetisation')\n",
    "ax[1].set_xlabel('Sweep count')\n",
    "\n",
    "_c = ax[2].imshow(states[:, :100])\n",
    "ax[2].set_xlabel('Sweep count')\n",
    "ax[2].set_ylabel('state of spins')\n",
    "fig.colorbar(_c)"
   ]
  },
  {
   "cell_type": "code",
   "execution_count": null,
   "metadata": {},
   "outputs": [],
   "source": [
    "states.shape"
   ]
  },
  {
   "cell_type": "code",
   "execution_count": null,
   "metadata": {},
   "outputs": [],
   "source": [
    "plt.plot(states[10][:100])\n",
    "plt.plot(states[11][:100])"
   ]
  },
  {
   "cell_type": "code",
   "execution_count": null,
   "metadata": {},
   "outputs": [],
   "source": [
    "fig, ax = plt.subplots(1, 2, figsize=(12, 4), sharey=True)\n",
    "\n",
    "msmlags = range(1, 20, 1)\n",
    "dis, rdis, mis = [], [], []\n",
    "for msmlag in msmlags:\n",
    "    #d, r, m = dir_info((states[10] == 1).astype(int), (states[11] == 1).astype(int), msmlag)\n",
    "    est = inf.TransferEntropy(inf.MSMProbabilities(msmlag=msmlag, reversible=False, tmat_ck_estimate=False))\n",
    "    est.symmetrized_estimate((states[10]==1).astype(int), (states[11]==1).astype(int))\n",
    "    dis.append(est.d)\n",
    "    rdis.append(est.r)\n",
    "    mis.append(est.m)\n",
    "    \n",
    "ax[0].plot(dis, '.-', label='TE')\n",
    "ax[0].plot(rdis, '.-', label='rev TE')\n",
    "ax[0].legend()\n",
    "ax[0].set_title('TE(driven spin -> neighbor)')\n",
    "ax[0].set_xlabel('msm lagtime')\n",
    "\n",
    "dis, rdis, mis = [], [], []\n",
    "for msmlag in msmlags:\n",
    "    #d, r, m = dir_info((states[3] == 1).astype(int), (states[4] == 1).astype(int), msmlag)\n",
    "    est = inf.TransferEntropy(inf.MSMProbabilities(msmlag=msmlag, reversible=False, tmat_ck_estimate=False))\n",
    "    est.symmetrized_estimate((states[1]==1).astype(int), (states[2]==1).astype(int))\n",
    "    dis.append(est.d)\n",
    "    rdis.append(est.r)\n",
    "    mis.append(est.m)\n",
    "    \n",
    "ax[1].plot(dis, '.-', label='TE')\n",
    "ax[1].plot(rdis, '.-', label='rev TE')\n",
    "ax[1].legend()\n",
    "ax[1].set_title('TE(random spin -> neighbor)')\n",
    "ax[1].set_xlabel('msm lagtime')"
   ]
  },
  {
   "cell_type": "code",
   "execution_count": null,
   "metadata": {},
   "outputs": [],
   "source": [
    "import msmtools, matplotlib"
   ]
  },
  {
   "cell_type": "code",
   "execution_count": null,
   "metadata": {},
   "outputs": [],
   "source": [
    "msmtools.analysis.is_reversible(est.p_estimator.tmat_y), msmtools.analysis.is_reversible(est.p_estimator.tmat_x), msmtools.analysis.is_reversible(est.p_estimator.tmat_xy)"
   ]
  },
  {
   "cell_type": "code",
   "execution_count": null,
   "metadata": {},
   "outputs": [],
   "source": [
    "msmtools.analysis.statdist(est.p_estimator.tmat_xy)[None, :]"
   ]
  },
  {
   "cell_type": "code",
   "execution_count": null,
   "metadata": {},
   "outputs": [],
   "source": [
    "plt.imshow(msmtools.analysis.statdist(est.p_estimator.tmat_xy)[:, None] * est.p_estimator.tmat_xy, norm=matplotlib.colors.LogNorm())\n",
    "plt.colorbar()"
   ]
  },
  {
   "cell_type": "code",
   "execution_count": null,
   "metadata": {},
   "outputs": [],
   "source": [
    "est.d, est.r, est.m"
   ]
  },
  {
   "cell_type": "code",
   "execution_count": null,
   "metadata": {},
   "outputs": [],
   "source": [
    "mmat = np.zeros((states.shape[0], states.shape[0])) + np.NaN\n",
    "dmat = np.zeros((states.shape[0], states.shape[0])) + np.NaN\n",
    "rmat = np.zeros((states.shape[0], states.shape[0])) + np.NaN\n",
    "\n",
    "for i, j in itertools.combinations(range(states.shape[0]), 2):\n",
    "    #d, r, m = dir_info((states[i]==1).astype(int), (states[j]==1).astype(int), msmlag=10)\n",
    "    est = inf.TransferEntropy(inf.MSMProbabilities(msmlag=1, reversible=False, tmat_ck_estimate=False))\n",
    "    est.symmetrized_estimate((states[i]==1).astype(int), (states[j]==1).astype(int))\n",
    "    \n",
    "    dmat[i, j] = est.d\n",
    "    rmat[i, j] = est.r\n",
    "    dmat[j, i] = est.r\n",
    "    \n",
    "    \n",
    "    mmat[i, j] = inf.MutualInfoStationaryDistribution(est.p_estimator).estimate((states[i]==1).astype(int), (states[j]==1).astype(int)).m\n",
    "\n",
    "fig, ax = plt.subplots(1, 2, figsize=(10, 4))\n",
    "\n",
    "i = ax[0].imshow(dmat, cmap='gist_heat_r')\n",
    "ax[0].set_title('transfer entropy(i -> j)')\n",
    "fig.colorbar(i, ax=ax[0])\n",
    "i=ax[1].imshow(mmat, cmap='gist_heat_r')\n",
    "ax[1].set_title('mutual info(i, j)')\n",
    "fig.colorbar(i, ax=ax[1])"
   ]
  },
  {
   "cell_type": "code",
   "execution_count": null,
   "metadata": {
    "scrolled": true
   },
   "outputs": [],
   "source": [
    "cutoff = .015\n",
    "a = np.zeros_like(dmat)\n",
    "a[np.isfinite(rmat)] = dmat[np.isfinite(rmat)] - rmat[np.isfinite(rmat)]\n",
    "plt.imshow(abs(a) > cutoff)"
   ]
  },
  {
   "cell_type": "code",
   "execution_count": null,
   "metadata": {},
   "outputs": [],
   "source": [
    "print('transfer entropy between spins with significant directionality:\\n')\n",
    "for pair in np.where(abs(a) > cutoff):\n",
    "    print('te(' + str(pair[0]) + '->' + str(pair[1]) + ')=' + str(np.round(dmat[tuple(pair)], 3)) + \\\n",
    "         ';\\tte(' + str(pair[1]) + '->' + str(pair[0]) + ')=' + str(np.round(rmat[tuple(pair)], 3)))"
   ]
  },
  {
   "cell_type": "markdown",
   "metadata": {},
   "source": [
    "Can identify that spin 10 is not \"causaly influenced\" by any other spin. Only significant directionality from spin 10 to its nearest neighbors."
   ]
  },
  {
   "cell_type": "code",
   "execution_count": null,
   "metadata": {
    "scrolled": false
   },
   "outputs": [],
   "source": [
    "plt.imshow(correlation([states.T], lag=10))#, vmin=-1, vmax=1)\n",
    "plt.colorbar()"
   ]
  }
 ],
 "metadata": {
  "kernelspec": {
   "display_name": "py37_dec18",
   "language": "python",
   "name": "py37_dec18"
  },
  "language_info": {
   "codemirror_mode": {
    "name": "ipython",
    "version": 3
   },
   "file_extension": ".py",
   "mimetype": "text/x-python",
   "name": "python",
   "nbconvert_exporter": "python",
   "pygments_lexer": "ipython3",
   "version": "3.6.8"
  }
 },
 "nbformat": 4,
 "nbformat_minor": 2
}
