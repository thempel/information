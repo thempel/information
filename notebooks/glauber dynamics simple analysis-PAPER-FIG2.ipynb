{
 "cells": [
  {
   "cell_type": "code",
   "execution_count": 1,
   "metadata": {
    "ExecuteTime": {
     "end_time": "2024-02-02T23:16:04.466153Z",
     "start_time": "2024-02-02T23:16:03.337656Z"
    }
   },
   "outputs": [],
   "source": [
    "import numpy as np\n",
    "import itertools\n",
    "import sys\n",
    "import pyemma\n",
    "import msmtools\n",
    "import matplotlib as mpl\n",
    "import matplotlib.pyplot as plt\n",
    "from scipy.linalg import expm\n",
    "from tqdm import tqdm_notebook"
   ]
  },
  {
   "cell_type": "code",
   "execution_count": 2,
   "metadata": {
    "ExecuteTime": {
     "end_time": "2024-02-02T23:16:06.157158Z",
     "start_time": "2024-02-02T23:16:04.528745Z"
    }
   },
   "outputs": [],
   "source": [
    "sys.path.append('/home/mi/thempel/code/information/')\n",
    "import informant as inf"
   ]
  },
  {
   "cell_type": "markdown",
   "metadata": {},
   "source": [
    "### driven Ising model\n",
    "One spin periodically changes sign and is not influenced by the rest. This example: Spin 10, stays 10 steps and subsequently changes sign."
   ]
  },
  {
   "cell_type": "code",
   "execution_count": 3,
   "metadata": {
    "ExecuteTime": {
     "end_time": "2024-02-02T23:16:06.163878Z",
     "start_time": "2024-02-02T23:16:06.160067Z"
    }
   },
   "outputs": [],
   "source": [
    "nspins = 10\n",
    "nsteps = 100000\n",
    "tau = 1. # for generation of the data; validated to be as large as possible to still reproduce eigenvalue spectrum\n",
    "alpha_driver = .05\n",
    "ntrials = 3"
   ]
  },
  {
   "cell_type": "markdown",
   "metadata": {},
   "source": [
    "### generate dynamics\n",
    "Use `ntrails = 3` realizations of the Markov chain."
   ]
  },
  {
   "cell_type": "code",
   "execution_count": 4,
   "metadata": {
    "ExecuteTime": {
     "end_time": "2024-02-02T23:16:19.275978Z",
     "start_time": "2024-02-02T23:16:07.016692Z"
    }
   },
   "outputs": [
    {
     "data": {
      "application/vnd.jupyter.widget-view+json": {
       "model_id": "bea9278777c84452a0f74217d11e62d0",
       "version_major": 2,
       "version_minor": 0
      },
      "text/plain": [
       "HBox(children=(FloatProgress(value=0.0, max=100000.0), HTML(value='')))"
      ]
     },
     "metadata": {},
     "output_type": "display_data"
    },
    {
     "name": "stdout",
     "output_type": "stream",
     "text": [
      "\n"
     ]
    },
    {
     "data": {
      "application/vnd.jupyter.widget-view+json": {
       "model_id": "aa074aede5e148da908b6521257b875b",
       "version_major": 2,
       "version_minor": 0
      },
      "text/plain": [
       "HBox(children=(FloatProgress(value=0.0, max=100000.0), HTML(value='')))"
      ]
     },
     "metadata": {},
     "output_type": "display_data"
    },
    {
     "name": "stdout",
     "output_type": "stream",
     "text": [
      "\n"
     ]
    },
    {
     "data": {
      "application/vnd.jupyter.widget-view+json": {
       "model_id": "989a2c7adefd4625ae3c3e02b9a6db71",
       "version_major": 2,
       "version_minor": 0
      },
      "text/plain": [
       "HBox(children=(FloatProgress(value=0.0, max=100000.0), HTML(value='')))"
      ]
     },
     "metadata": {},
     "output_type": "display_data"
    },
    {
     "name": "stdout",
     "output_type": "stream",
     "text": [
      "\n"
     ]
    }
   ],
   "source": [
    "states = np.zeros((ntrials, nspins, nsteps), dtype=np.int8)\n",
    "for t in range(ntrials):\n",
    "    states[t] = inf.generators.gen_ising_traj(nspins, \n",
    "                                              nsteps, \n",
    "                                              driven=True, \n",
    "                                              alpha_driver=None, # falls back to alpha of \"normal\" spins\n",
    "                                              tau=tau)"
   ]
  },
  {
   "cell_type": "markdown",
   "metadata": {},
   "source": [
    "### compute TE from driver to neighbor and between 2 random spins"
   ]
  },
  {
   "cell_type": "code",
   "execution_count": 5,
   "metadata": {
    "ExecuteTime": {
     "end_time": "2024-02-02T23:16:52.994976Z",
     "start_time": "2024-02-02T23:16:23.353465Z"
    }
   },
   "outputs": [],
   "source": [
    "msmlags = np.arange(1, 51)\n",
    "te_driver2neighbor = np.zeros((ntrials, msmlags.shape[0], 2))\n",
    "te_randomneighbors = np.zeros((ntrials, msmlags.shape[0], 2))\n",
    "\n",
    "di_driver2neighbor = np.zeros((ntrials, msmlags.shape[0], 2))\n",
    "di_randomneighbors = np.zeros((ntrials, msmlags.shape[0], 2))\n",
    "\n",
    "\n",
    "for t in range(ntrials):\n",
    "    for n, msmlag in enumerate(msmlags):\n",
    "        # TE driver -> neighbor\n",
    "        est_forw = inf.TransferEntropy(inf.MSMProbabilities(msmlag=msmlag, reversible=False, tmat_ck_estimate=False))\n",
    "        est_forw.estimate(states[t, 0], states[t, 1])\n",
    "        \n",
    "        # TE neighbor -> driver\n",
    "        est_backw = inf.TransferEntropy(inf.MSMProbabilities(msmlag=msmlag, reversible=False, tmat_ck_estimate=False))\n",
    "        est_backw.estimate(states[t, 1], states[t, 0])\n",
    "        \n",
    "        te_driver2neighbor[t, n] = [est_forw.d, est_backw.d]\n",
    "        \n",
    "        # TE random spin -> neighbor of random spin\n",
    "        est_forw = inf.TransferEntropy(inf.MSMProbabilities(msmlag=msmlag, reversible=False, tmat_ck_estimate=False))\n",
    "        est_forw.estimate(states[t, 5], states[t, 6])\n",
    "        \n",
    "        # TE neighbor of random spin -> random spin\n",
    "        est_backw = inf.TransferEntropy(inf.MSMProbabilities(msmlag=msmlag, reversible=False, tmat_ck_estimate=False))\n",
    "        est_backw.estimate(states[t, 6], states[t, 5])\n",
    "\n",
    "        te_randomneighbors[t, n] = [est_forw.d, est_backw.d]\n",
    "        \n",
    "        # DI driver -> neighbor\n",
    "        est_forw = inf.DirectedInformation(inf.MSMProbabilities(msmlag=msmlag, reversible=False, tmat_ck_estimate=False))\n",
    "        est_forw.estimate(states[t, 0], states[t, 1])\n",
    "        \n",
    "        # DI neighbor -> driver\n",
    "        est_backw = inf.DirectedInformation(inf.MSMProbabilities(msmlag=msmlag, reversible=False, tmat_ck_estimate=False))\n",
    "        est_backw.estimate(states[t, 1], states[t, 0])\n",
    "\n",
    "        di_driver2neighbor[t, n] = [est_forw.d, est_backw.d]\n",
    "        \n",
    "        # DI random spin -> neighbor of random spin\n",
    "        est_forw = inf.DirectedInformation(inf.MSMProbabilities(msmlag=msmlag, reversible=False, tmat_ck_estimate=False))\n",
    "        est_forw.estimate(states[t, 5], states[t, 6])\n",
    "        \n",
    "        # DI neighbor of random spin -> random spin\n",
    "        est_backw = inf.DirectedInformation(inf.MSMProbabilities(msmlag=msmlag, reversible=False, tmat_ck_estimate=False))\n",
    "        est_backw.estimate(states[t, 6], states[t, 5])\n",
    "        \n",
    "        di_randomneighbors[t, n] = [est_forw.d, est_backw.d]"
   ]
  },
  {
   "cell_type": "markdown",
   "metadata": {},
   "source": [
    "### evaluate matrix of all spin-spin TE's at $\\tau=10$"
   ]
  },
  {
   "cell_type": "code",
   "execution_count": 6,
   "metadata": {
    "ExecuteTime": {
     "end_time": "2024-02-02T23:17:06.256132Z",
     "start_time": "2024-02-02T23:16:52.996235Z"
    }
   },
   "outputs": [],
   "source": [
    "te_mat = np.zeros((states.shape[1], states.shape[1]))\n",
    "di_mat = np.zeros((states.shape[1], states.shape[1]))\n",
    "\n",
    "msmlag = 10\n",
    "for i, j in itertools.combinations(range(states.shape[1]), 2):\n",
    "    for t in range(ntrials):\n",
    "        # TE forward\n",
    "        est_forw = inf.TransferEntropy(inf.MSMProbabilities(msmlag=msmlag, \n",
    "                                   reversible=False, \n",
    "                                   tmat_ck_estimate=False))\n",
    "        est_forw.estimate(states[t, i], states[t, j])\n",
    "        \n",
    "        # TE backward\n",
    "        est_backw = inf.TransferEntropy(inf.MSMProbabilities(msmlag=msmlag, \n",
    "                                   reversible=False, \n",
    "                                   tmat_ck_estimate=False))\n",
    "        est_backw.estimate(states[t, j], states[t, i])\n",
    "\n",
    "        te_mat[i, j] += est_forw.d\n",
    "        te_mat[j, i] += est_backw.d        \n",
    "        \n",
    "        # DI forward\n",
    "        est_forw = inf.DirectedInformation(inf.MSMProbabilities(msmlag=msmlag, \n",
    "                                   reversible=False, \n",
    "                                   tmat_ck_estimate=False))\n",
    "        est_forw.estimate(states[t, i], states[t, j])\n",
    "        \n",
    "        # DI backward\n",
    "        est_backw = inf.DirectedInformation(inf.MSMProbabilities(msmlag=msmlag, \n",
    "                                   reversible=False, \n",
    "                                   tmat_ck_estimate=False))\n",
    "        est_backw.estimate(states[t, j], states[t, i])\n",
    "\n",
    "\n",
    "        di_mat[i, j] += est_forw.d\n",
    "        di_mat[j, i] += est_backw.d\n",
    "                    \n",
    "# compute mean\n",
    "te_mat = te_mat / ntrials\n",
    "di_mat = di_mat / ntrials"
   ]
  },
  {
   "cell_type": "markdown",
   "metadata": {
    "ExecuteTime": {
     "end_time": "2024-01-21T14:42:50.740247Z",
     "start_time": "2024-01-21T14:42:50.737981Z"
    }
   },
   "source": [
    "### plot into a combined figure"
   ]
  },
  {
   "cell_type": "code",
   "execution_count": 7,
   "metadata": {
    "ExecuteTime": {
     "end_time": "2024-02-02T23:17:38.899101Z",
     "start_time": "2024-02-02T23:17:38.889050Z"
    }
   },
   "outputs": [],
   "source": [
    "mpl.rcParams['axes.titlesize'] = 11\n",
    "mpl.rcParams['axes.labelsize'] = 11\n",
    "mpl.rcParams['legend.fontsize'] = 11\n",
    "mpl.rcParams['xtick.labelsize'] = 11\n",
    "mpl.rcParams['ytick.labelsize'] = 11\n",
    "mpl.rcParams['xtick.minor.pad'] = 2\n",
    "mpl.rcParams['xtick.major.pad'] = 3\n",
    "mpl.rcParams['ytick.minor.pad'] = 2\n",
    "mpl.rcParams['ytick.major.pad'] = 3\n",
    "mpl.rcParams['axes.labelpad'] = 1\n",
    "mpl.rcParams['lines.markersize'] = 4\n",
    "\n",
    "cmap = plt.cm.binary\n",
    "backwcol, forwcol = plt.cm.seismic(0.2), plt.cm.seismic(.8)"
   ]
  },
  {
   "cell_type": "code",
   "execution_count": 14,
   "metadata": {
    "ExecuteTime": {
     "end_time": "2024-02-02T23:21:34.635588Z",
     "start_time": "2024-02-02T23:21:33.912289Z"
    }
   },
   "outputs": [
    {
     "data": {
      "image/png": "[encoded data removed]",
      "text/plain": [
       "<Figure size 302.4x302.4 with 7 Axes>"
      ]
     },
     "metadata": {
      "needs_background": "light"
     },
     "output_type": "display_data"
    }
   ],
   "source": [
    "driver2neighbor = te_driver2neighbor\n",
    "dmat = te_mat\n",
    "dmat_forw_min_back = te_mat - te_mat.T\n",
    "\n",
    "fig = plt.figure(figsize=(4.2, 4.2))\n",
    "gw = 700\n",
    "gh = 800\n",
    "gs = plt.GridSpec(gh, gw)\n",
    "gs.update(hspace=0.0, wspace=0.0, left=0.0, right=1.0, bottom=0.0, top=1.0)\n",
    "\n",
    "ax_box = fig.add_subplot(gs[:, :])\n",
    "ax_box.set_axis_off()\n",
    "ax_box.text(-0.13, 1.05, '(a)', size=12, fontweight='bold')\n",
    "ax_box.text(-0.13, 0.75, '(b)', size=12, fontweight='bold')\n",
    "ax_box.text(-0.13, 0.24, '(c)', size=12, fontweight='bold')\n",
    "\n",
    "\n",
    "ax_ts = fig.add_subplot(gs[:150, :])\n",
    "ax_ts.imshow(states[0, :,:1000], aspect='auto', cmap=cmap, interpolation='nearest')\n",
    "\n",
    "ax_ts.set_ylim(-.5, nspins - .5) # turns y-axis bottom-up. is consistent. same above.\n",
    "\n",
    "ax_ts.set_ylabel('spin')\n",
    "ax_ts.set_xlabel('step')\n",
    "ax_ts.set_yticks(range(nspins))\n",
    "ax_ts.set_yticklabels(np.vstack([np.arange(0, nspins, 2).astype(str), \n",
    "                                  np.array(['' for _ in range(int(nspins/2))])]).T.reshape(nspins));\n",
    "ax_ts.xaxis.tick_top()\n",
    "ax_ts.xaxis.set_label_position('top')\n",
    "\n",
    "\n",
    "ax_lag = fig.add_subplot(gs[210:500, :])\n",
    "\n",
    "ax_lag.plot(msmlags, driver2neighbor[:, :, 0].mean(axis=0), lw=4, \n",
    "            label='TE(driver -> neighbor)', c=forwcol)\n",
    "ax_lag.plot(msmlags, driver2neighbor[:, :, 1].mean(axis=0), lw=4, \n",
    "            label='TE(neighbor -> driver)', c=backwcol)\n",
    "ax_lag.legend(loc=(.02, .1))\n",
    "ax_lag.spines['top'].set_visible(False)\n",
    "ax_lag.spines['right'].set_visible(False)\n",
    "ax_lag.set_xlim(0, len(msmlags))\n",
    "\n",
    "ax_lag.set_ylabel('transfer entropy')\n",
    "ax_lag.set_xlabel('lag time')\n",
    "\n",
    "ax_mat1 = fig.add_subplot(gs[600:, 50:230])\n",
    "ax_colb1 = fig.add_subplot(gs[600:, 240:250])\n",
    "img1 = ax_mat1.imshow(dmat, cmap=cmap)\n",
    "fig.colorbar(img1, cax=ax_colb1)\n",
    "ax_mat2 = fig.add_subplot(gs[600:, 380:570])\n",
    "ax_colb2 = fig.add_subplot(gs[600:, 580:590])\n",
    "img2 = ax_mat2.imshow(dmat_forw_min_back, cmap='bwr')\n",
    "fig.colorbar(img2, cax=ax_colb2)\n",
    "\n",
    "for ax_mat in [ax_mat1, ax_mat2]:\n",
    "    ax_mat.set_xticks(range(nspins))\n",
    "    ax_mat.set_yticks(range(nspins))\n",
    "    ax_mat.set_yticklabels(np.vstack([np.arange(0, nspins, 2).astype(str), \n",
    "                                      np.array(['' for _ in range(int(nspins/2))])]).T.reshape(nspins))\n",
    "    ax_mat.set_xticklabels(np.vstack([np.arange(0, nspins, 2).astype(str), \n",
    "                                      np.array(['' for _ in range(int(nspins/2))])]).T.reshape(nspins))\n",
    "    ax_mat.set_ylim(-.5, nspins - .5)\n",
    "    ax_mat.set_xlim(-.5, nspins - .5)\n",
    "\n",
    "\n",
    "all_axs = [ax_ts, ax_mat, ax_lag]\n",
    "for ax in all_axs:\n",
    "    ax.set_facecolor((0, 0, 0, 0))\n",
    "    \n",
    "fig.align_labels(all_axs)\n",
    "fig.savefig('/home/mi/thempel/Dokumente/Papers/paper_directed_networks/gfx/ising_simple.pdf', bbox_inches='tight')"
   ]
  },
  {
   "cell_type": "code",
   "execution_count": 16,
   "metadata": {
    "ExecuteTime": {
     "end_time": "2024-02-02T23:22:00.780300Z",
     "start_time": "2024-02-02T23:22:00.054699Z"
    }
   },
   "outputs": [
    {
     "data": {
      "image/png": "[encoded data removed]",
      "text/plain": [
       "<Figure size 302.4x302.4 with 7 Axes>"
      ]
     },
     "metadata": {
      "needs_background": "light"
     },
     "output_type": "display_data"
    }
   ],
   "source": [
    "driver2neighbor = di_driver2neighbor\n",
    "dmat = di_mat\n",
    "dmat_forw_min_back = di_mat - di_mat.T\n",
    "\n",
    "fig = plt.figure(figsize=(4.2, 4.2))\n",
    "gw = 700\n",
    "gh = 800\n",
    "gs = plt.GridSpec(gh, gw)\n",
    "gs.update(hspace=0.0, wspace=0.0, left=0.0, right=1.0, bottom=0.0, top=1.0)\n",
    "\n",
    "ax_box = fig.add_subplot(gs[:, :])\n",
    "ax_box.set_axis_off()\n",
    "ax_box.text(-0.13, 1.05, '(a)', size=12, fontweight='bold')\n",
    "ax_box.text(-0.13, 0.75, '(b)', size=12, fontweight='bold')\n",
    "ax_box.text(-0.13, 0.24, '(c)', size=12, fontweight='bold')\n",
    "\n",
    "\n",
    "ax_ts = fig.add_subplot(gs[:150, :])\n",
    "ax_ts.imshow(states[0, :,:1000], aspect='auto', cmap=cmap, interpolation='nearest')\n",
    "\n",
    "ax_ts.set_ylim(-.5, nspins - .5) # turns y-axis bottom-up. is consistent. same above.\n",
    "\n",
    "ax_ts.set_ylabel('spin')\n",
    "ax_ts.set_xlabel('step')\n",
    "ax_ts.set_yticks(range(nspins))\n",
    "ax_ts.set_yticklabels(np.vstack([np.arange(0, nspins, 2).astype(str), \n",
    "                                  np.array(['' for _ in range(int(nspins/2))])]).T.reshape(nspins));\n",
    "ax_ts.xaxis.tick_top()\n",
    "ax_ts.xaxis.set_label_position('top')\n",
    "\n",
    "\n",
    "ax_lag = fig.add_subplot(gs[210:500, :])\n",
    "\n",
    "ax_lag.plot(msmlags, driver2neighbor[:, :, 0].mean(axis=0), lw=4, \n",
    "            label='TE(driver -> neighbor)', c=forwcol)\n",
    "ax_lag.plot(msmlags, driver2neighbor[:, :, 1].mean(axis=0), lw=4, \n",
    "            label='TE(neighbor -> driver)', c=backwcol)\n",
    "ax_lag.legend(loc=(.02, .1))\n",
    "ax_lag.spines['top'].set_visible(False)\n",
    "ax_lag.spines['right'].set_visible(False)\n",
    "ax_lag.set_xlim(0, len(msmlags))\n",
    "\n",
    "ax_lag.set_ylabel('transfer entropy')\n",
    "ax_lag.set_xlabel('lag time')\n",
    "\n",
    "ax_mat1 = fig.add_subplot(gs[600:, 50:230])\n",
    "ax_colb1 = fig.add_subplot(gs[600:, 240:250])\n",
    "img1 = ax_mat1.imshow(dmat, cmap=cmap)\n",
    "fig.colorbar(img1, cax=ax_colb1)\n",
    "ax_mat2 = fig.add_subplot(gs[600:, 380:570])\n",
    "ax_colb2 = fig.add_subplot(gs[600:, 580:590])\n",
    "img2 = ax_mat2.imshow(dmat_forw_min_back, cmap='bwr')\n",
    "fig.colorbar(img2, cax=ax_colb2)\n",
    "\n",
    "for ax_mat in [ax_mat1, ax_mat2]:\n",
    "    ax_mat.set_xticks(range(nspins))\n",
    "    ax_mat.set_yticks(range(nspins))\n",
    "    ax_mat.set_yticklabels(np.vstack([np.arange(0, nspins, 2).astype(str), \n",
    "                                      np.array(['' for _ in range(int(nspins/2))])]).T.reshape(nspins))\n",
    "    ax_mat.set_xticklabels(np.vstack([np.arange(0, nspins, 2).astype(str), \n",
    "                                      np.array(['' for _ in range(int(nspins/2))])]).T.reshape(nspins))\n",
    "    ax_mat.set_ylim(-.5, nspins - .5)\n",
    "    ax_mat.set_xlim(-.5, nspins - .5)\n",
    "\n",
    "\n",
    "all_axs = [ax_ts, ax_mat, ax_lag]\n",
    "for ax in all_axs:\n",
    "    ax.set_facecolor((0, 0, 0, 0))\n",
    "    \n",
    "fig.align_labels(all_axs)\n",
    "fig.savefig('/home/mi/thempel/Dokumente/Papers/paper_directed_networks/gfx/ising_simple_di.pdf', bbox_inches='tight')"
   ]
  },
  {
   "cell_type": "code",
   "execution_count": null,
   "metadata": {},
   "outputs": [],
   "source": []
  }
 ],
 "metadata": {
  "kernelspec": {
   "display_name": "py37_mar20",
   "language": "python",
   "name": "py37_mar20"
  },
  "language_info": {
   "codemirror_mode": {
    "name": "ipython",
    "version": 3
   },
   "file_extension": ".py",
   "mimetype": "text/x-python",
   "name": "python",
   "nbconvert_exporter": "python",
   "pygments_lexer": "ipython3",
   "version": "3.7.12"
  }
 },
 "nbformat": 4,
 "nbformat_minor": 2
}
