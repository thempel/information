{
 "cells": [
  {
   "cell_type": "code",
   "execution_count": 1,
   "metadata": {
    "ExecuteTime": {
     "end_time": "2024-01-21T14:33:22.177426Z",
     "start_time": "2024-01-21T14:33:21.251545Z"
    }
   },
   "outputs": [],
   "source": [
    "import numpy as np\n",
    "import itertools\n",
    "import sys\n",
    "import pyemma\n",
    "import msmtools\n",
    "import matplotlib as mpl\n",
    "import matplotlib.pyplot as plt\n",
    "from scipy.linalg import expm\n",
    "from tqdm import tqdm_notebook"
   ]
  },
  {
   "cell_type": "code",
   "execution_count": 2,
   "metadata": {
    "ExecuteTime": {
     "end_time": "2024-01-21T14:33:23.633767Z",
     "start_time": "2024-01-21T14:33:22.179388Z"
    }
   },
   "outputs": [],
   "source": [
    "sys.path.append('/home/mi/thempel/code/information/')\n",
    "import informant as inf"
   ]
  },
  {
   "cell_type": "markdown",
   "metadata": {},
   "source": [
    "### driven Ising model\n",
    "One spin periodically changes sign and is not influenced by the rest. This example: Spin 10, stays 10 steps and subsequently changes sign."
   ]
  },
  {
   "cell_type": "code",
   "execution_count": 3,
   "metadata": {
    "ExecuteTime": {
     "end_time": "2024-01-21T14:33:23.641398Z",
     "start_time": "2024-01-21T14:33:23.636595Z"
    }
   },
   "outputs": [],
   "source": [
    "nspins = 10\n",
    "nsteps = 100000\n",
    "tau = 1. # for generation of the data; validated to be as large as possible to still reproduce eigenvalue spectrum\n",
    "alpha_driver = .05\n",
    "ntrials = 3"
   ]
  },
  {
   "cell_type": "markdown",
   "metadata": {},
   "source": [
    "### generate dynamics\n",
    "Use `ntrails = 3` realizations of the Markov chain."
   ]
  },
  {
   "cell_type": "code",
   "execution_count": 18,
   "metadata": {
    "ExecuteTime": {
     "end_time": "2024-01-21T14:42:27.698588Z",
     "start_time": "2024-01-21T14:42:14.392036Z"
    }
   },
   "outputs": [
    {
     "data": {
      "application/vnd.jupyter.widget-view+json": {
       "model_id": "9dc2b5ef48ad46e69c81b1b5dc4444f3",
       "version_major": 2,
       "version_minor": 0
      },
      "text/plain": [
       "HBox(children=(FloatProgress(value=0.0, max=100000.0), HTML(value='')))"
      ]
     },
     "metadata": {},
     "output_type": "display_data"
    },
    {
     "name": "stdout",
     "output_type": "stream",
     "text": [
      "\n"
     ]
    },
    {
     "data": {
      "application/vnd.jupyter.widget-view+json": {
       "model_id": "9709928cddff44be810be85fd4c9e03f",
       "version_major": 2,
       "version_minor": 0
      },
      "text/plain": [
       "HBox(children=(FloatProgress(value=0.0, max=100000.0), HTML(value='')))"
      ]
     },
     "metadata": {},
     "output_type": "display_data"
    },
    {
     "name": "stdout",
     "output_type": "stream",
     "text": [
      "\n"
     ]
    },
    {
     "data": {
      "application/vnd.jupyter.widget-view+json": {
       "model_id": "2d8f7bca193b4059aeed8234d7329e51",
       "version_major": 2,
       "version_minor": 0
      },
      "text/plain": [
       "HBox(children=(FloatProgress(value=0.0, max=100000.0), HTML(value='')))"
      ]
     },
     "metadata": {},
     "output_type": "display_data"
    },
    {
     "name": "stdout",
     "output_type": "stream",
     "text": [
      "\n"
     ]
    }
   ],
   "source": [
    "states = np.zeros((ntrials, nspins, nsteps), dtype=np.int8)\n",
    "for t in range(ntrials):\n",
    "    states[t] = inf.generators.gen_ising_traj(nspins, \n",
    "                                              nsteps, \n",
    "                                              driven=True, \n",
    "                                              alpha_driver=None, # falls back to alpha of \"normal\" spins\n",
    "                                              tau=tau)"
   ]
  },
  {
   "cell_type": "markdown",
   "metadata": {},
   "source": [
    "### compute TE from driver to neighbor and between 2 random spins"
   ]
  },
  {
   "cell_type": "code",
   "execution_count": 19,
   "metadata": {
    "ExecuteTime": {
     "end_time": "2024-01-21T14:42:43.569728Z",
     "start_time": "2024-01-21T14:42:27.699875Z"
    }
   },
   "outputs": [],
   "source": [
    "msmlags = np.arange(1, 51)\n",
    "te_driver2neighbor = np.zeros((ntrials, msmlags.shape[0], 2))\n",
    "te_randomneighbors = np.zeros((ntrials, msmlags.shape[0], 2))\n",
    "\n",
    "di_driver2neighbor = np.zeros((ntrials, msmlags.shape[0], 2))\n",
    "di_randomneighbors = np.zeros((ntrials, msmlags.shape[0], 2))\n",
    "\n",
    "\n",
    "for t in range(ntrials):\n",
    "    for n, msmlag in enumerate(msmlags):\n",
    "        # TE driver -> neighbor\n",
    "        est = inf.TransferEntropy(inf.MSMProbabilities(msmlag=msmlag, reversible=False, tmat_ck_estimate=False))\n",
    "        est.estimate(states[t, 0], states[t, 1])\n",
    "        te_driver2neighbor[t, n] = [est.d, est.r]\n",
    "        \n",
    "        # TE random spin -> neighbor of random spin\n",
    "        est = inf.TransferEntropy(inf.MSMProbabilities(msmlag=msmlag, reversible=False, tmat_ck_estimate=False))\n",
    "        est.estimate(states[t, 5], states[t, 6])\n",
    "        te_randomneighbors[t, n] = [est.d, est.r]\n",
    "        \n",
    "        # DI driver -> neighbor\n",
    "        est = inf.DirectedInformation(inf.MSMProbabilities(msmlag=msmlag, reversible=False, tmat_ck_estimate=False))\n",
    "        est.estimate(states[t, 0], states[t, 1])\n",
    "        di_driver2neighbor[t, n] = [est.d, est.r]\n",
    "        \n",
    "        # DI random spin -> neighbor of random spin\n",
    "        est = inf.DirectedInformation(inf.MSMProbabilities(msmlag=msmlag, reversible=False, tmat_ck_estimate=False))\n",
    "        est.estimate(states[t, 5], states[t, 6])\n",
    "        di_randomneighbors[t, n] = [est.d, est.r]"
   ]
  },
  {
   "cell_type": "markdown",
   "metadata": {},
   "source": [
    "### evaluate matrix of all spin-spin TE's at $\\tau=10$"
   ]
  },
  {
   "cell_type": "code",
   "execution_count": 20,
   "metadata": {
    "ExecuteTime": {
     "end_time": "2024-01-21T14:42:50.736612Z",
     "start_time": "2024-01-21T14:42:43.572764Z"
    }
   },
   "outputs": [],
   "source": [
    "te_mat = np.zeros((states.shape[1], states.shape[1]))\n",
    "di_mat = np.zeros((states.shape[1], states.shape[1]))\n",
    "msmlag = 10\n",
    "for i, j in itertools.combinations(range(states.shape[1]), 2):\n",
    "    for t in range(ntrials):\n",
    "        est = inf.TransferEntropy(inf.MSMProbabilities(msmlag=msmlag, \n",
    "                                   reversible=False, \n",
    "                                   tmat_ck_estimate=False))\n",
    "        est.estimate(states[t, i], states[t, j])\n",
    "\n",
    "        te_mat[i, j] += est.d\n",
    "        te_mat[j, i] += est.r\n",
    "        \n",
    "        est = inf.DirectedInformation(inf.MSMProbabilities(msmlag=msmlag, \n",
    "                                   reversible=False, \n",
    "                                   tmat_ck_estimate=False))\n",
    "        est.estimate(states[t, i], states[t, j])\n",
    "\n",
    "        di_mat[i, j] += est.d\n",
    "        di_mat[j, i] += est.r\n",
    "            \n",
    "# compute mean\n",
    "te_mat = te_mat / ntrials\n",
    "di_mat = di_mat / ntrials"
   ]
  },
  {
   "cell_type": "code",
   "execution_count": 21,
   "metadata": {
    "ExecuteTime": {
     "end_time": "2024-01-21T14:42:50.740247Z",
     "start_time": "2024-01-21T14:42:50.737981Z"
    }
   },
   "outputs": [],
   "source": [
    "# COMBINE FIGURES"
   ]
  },
  {
   "cell_type": "code",
   "execution_count": 22,
   "metadata": {
    "ExecuteTime": {
     "end_time": "2024-01-21T14:42:50.753109Z",
     "start_time": "2024-01-21T14:42:50.741950Z"
    }
   },
   "outputs": [],
   "source": [
    "mpl.rcParams['axes.titlesize'] = 11\n",
    "mpl.rcParams['axes.labelsize'] = 11\n",
    "mpl.rcParams['legend.fontsize'] = 11\n",
    "mpl.rcParams['xtick.labelsize'] = 11\n",
    "mpl.rcParams['ytick.labelsize'] = 11\n",
    "mpl.rcParams['xtick.minor.pad'] = 2\n",
    "mpl.rcParams['xtick.major.pad'] = 3\n",
    "mpl.rcParams['ytick.minor.pad'] = 2\n",
    "mpl.rcParams['ytick.major.pad'] = 3\n",
    "mpl.rcParams['axes.labelpad'] = 1\n",
    "mpl.rcParams['lines.markersize'] = 4\n",
    "\n",
    "cmap = plt.cm.binary\n",
    "backwcol, forwcol = plt.cm.seismic(0.2), plt.cm.seismic(.8)"
   ]
  },
  {
   "cell_type": "code",
   "execution_count": 23,
   "metadata": {
    "ExecuteTime": {
     "end_time": "2024-01-21T14:42:51.087846Z",
     "start_time": "2024-01-21T14:42:50.754777Z"
    }
   },
   "outputs": [
    {
     "data": {
      "image/png": "[encoded data removed]",
      "text/plain": [
       "<Figure size 302.4x216 with 4 Axes>"
      ]
     },
     "metadata": {
      "needs_background": "light"
     },
     "output_type": "display_data"
    }
   ],
   "source": [
    "driver2neighbor = te_driver2neighbor\n",
    "dmat = te_mat\n",
    "\n",
    "fig = plt.figure(figsize=(4.2, 3.0))\n",
    "gw = 700\n",
    "gh = 500\n",
    "gs = plt.GridSpec(gh, gw)\n",
    "gs.update(hspace=0.0, wspace=0.0, left=0.0, right=1.0, bottom=0.0, top=1.0)\n",
    "\n",
    "ax_box = fig.add_subplot(gs[:, :])\n",
    "ax_box.set_axis_off()\n",
    "ax_box.text(-0.13, 1.1, '(a)', size=12, fontweight='bold')\n",
    "ax_box.text(-0.13, 0.60, '(b)', size=12, fontweight='bold')\n",
    "ax_box.text(.65, 0.60, '(c)', size=12, fontweight='bold')\n",
    "\n",
    "\n",
    "ax_ts = fig.add_subplot(gs[:150, :])\n",
    "ax_ts.imshow(states[0, :,:1000], aspect='auto', cmap=cmap, interpolation='nearest')\n",
    "\n",
    "ax_ts.set_ylim(-.5, nspins - .5) # turns y-axis bottom-up. is consistent. same above.\n",
    "\n",
    "ax_ts.set_ylabel('spin')\n",
    "ax_ts.set_xlabel('step')\n",
    "ax_ts.set_yticks(range(nspins))\n",
    "ax_ts.set_yticklabels(np.vstack([np.arange(0, nspins, 2).astype(str), \n",
    "                                  np.array(['' for _ in range(int(nspins/2))])]).T.reshape(nspins));\n",
    "ax_ts.xaxis.tick_top()\n",
    "ax_ts.xaxis.set_label_position('top')\n",
    "\n",
    "\n",
    "ax_lag = fig.add_subplot(gs[-300:, :])\n",
    "\n",
    "ax_lag.plot(msmlags, driver2neighbor[:, :, 0].mean(axis=0), lw=4, \n",
    "            label='TE(driver -> neighbor)', c=forwcol)\n",
    "ax_lag.plot(msmlags, driver2neighbor[:, :, 1].mean(axis=0), lw=4, \n",
    "            label='TE(neighbor -> driver)', c=backwcol)\n",
    "ax_lag.legend(loc=(.02, .1))\n",
    "ax_lag.spines['top'].set_visible(False)\n",
    "ax_lag.spines['right'].set_visible(False)\n",
    "ax_lag.set_xlim(0, len(msmlags))\n",
    "\n",
    "ax_lag.set_ylabel('transfer entropy')\n",
    "ax_lag.set_xlabel('lag time')\n",
    "\n",
    "ax_mat = fig.add_subplot(gs[-300:-300+180, -180:])\n",
    "ax_mat.imshow(dmat, cmap=cmap)\n",
    "ax_mat.set_xticks(range(nspins))\n",
    "ax_mat.set_yticks(range(nspins))\n",
    "ax_mat.set_yticklabels(np.vstack([np.arange(0, nspins, 2).astype(str), \n",
    "                                  np.array(['' for _ in range(int(nspins/2))])]).T.reshape(nspins))\n",
    "ax_mat.set_xticklabels(np.vstack([np.arange(0, nspins, 2).astype(str), \n",
    "                                  np.array(['' for _ in range(int(nspins/2))])]).T.reshape(nspins))\n",
    "ax_mat.set_ylim(-.5, nspins - .5)\n",
    "ax_mat.set_xlim(-.5, nspins - .5)\n",
    "\n",
    "\n",
    "all_axs = [ax_ts, ax_mat, ax_lag]\n",
    "for ax in all_axs:\n",
    "    ax.set_facecolor((0, 0, 0, 0))\n",
    "    \n",
    "fig.align_labels(all_axs)\n",
    "#fig.savefig('/Users/thempel/fuhome/Dokumente/Papers/paper_directed_networks/gfx/ising_simple.pdf', bbox_inches='tight')"
   ]
  },
  {
   "cell_type": "code",
   "execution_count": 27,
   "metadata": {
    "ExecuteTime": {
     "end_time": "2024-01-21T15:40:22.295456Z",
     "start_time": "2024-01-21T15:40:21.480625Z"
    }
   },
   "outputs": [
    {
     "data": {
      "image/png": "[encoded data removed]",
      "text/plain": [
       "<Figure size 302.4x216 with 4 Axes>"
      ]
     },
     "metadata": {
      "needs_background": "light"
     },
     "output_type": "display_data"
    }
   ],
   "source": [
    "driver2neighbor = di_driver2neighbor\n",
    "dmat = di_mat\n",
    "\n",
    "fig = plt.figure(figsize=(4.2, 3.0))\n",
    "gw = 700\n",
    "gh = 500\n",
    "gs = plt.GridSpec(gh, gw)\n",
    "gs.update(hspace=0.0, wspace=0.0, left=0.0, right=1.0, bottom=0.0, top=1.0)\n",
    "\n",
    "ax_box = fig.add_subplot(gs[:, :])\n",
    "ax_box.set_axis_off()\n",
    "ax_box.text(-0.13, 1.1, '(a)', size=12, fontweight='bold')\n",
    "ax_box.text(-0.13, 0.60, '(b)', size=12, fontweight='bold')\n",
    "ax_box.text(.65, 0.60, '(c)', size=12, fontweight='bold')\n",
    "\n",
    "\n",
    "ax_ts = fig.add_subplot(gs[:150, :])\n",
    "ax_ts.imshow(states[0, :,:1000], aspect='auto', cmap=cmap, interpolation='nearest')\n",
    "\n",
    "ax_ts.set_ylim(-.5, nspins - .5) # turns y-axis bottom-up. is consistent. same above.\n",
    "\n",
    "ax_ts.set_ylabel('spin')\n",
    "ax_ts.set_xlabel('step')\n",
    "ax_ts.set_yticks(range(nspins))\n",
    "ax_ts.set_yticklabels(np.vstack([np.arange(0, nspins, 2).astype(str), \n",
    "                                  np.array(['' for _ in range(int(nspins/2))])]).T.reshape(nspins));\n",
    "ax_ts.xaxis.tick_top()\n",
    "ax_ts.xaxis.set_label_position('top')\n",
    "\n",
    "\n",
    "ax_lag = fig.add_subplot(gs[-300:, :])\n",
    "\n",
    "ax_lag.plot(msmlags, driver2neighbor[:, :, 0].mean(axis=0), lw=4, \n",
    "            label='TE(driver -> neighbor)', c=forwcol)\n",
    "ax_lag.plot(msmlags, driver2neighbor[:, :, 1].mean(axis=0), lw=4, \n",
    "            label='TE(neighbor -> driver)', c=backwcol)\n",
    "ax_lag.legend(loc=(.02, .1))\n",
    "ax_lag.spines['top'].set_visible(False)\n",
    "ax_lag.spines['right'].set_visible(False)\n",
    "ax_lag.set_xlim(0, len(msmlags))\n",
    "\n",
    "ax_lag.set_ylabel('transfer entropy')\n",
    "ax_lag.set_xlabel('lag time')\n",
    "\n",
    "ax_mat = fig.add_subplot(gs[-300:-300+180, -180:])\n",
    "ax_mat.imshow(dmat, cmap=cmap)\n",
    "ax_mat.set_xticks(range(nspins))\n",
    "ax_mat.set_yticks(range(nspins))\n",
    "ax_mat.set_yticklabels(np.vstack([np.arange(0, nspins, 2).astype(str), \n",
    "                                  np.array(['' for _ in range(int(nspins/2))])]).T.reshape(nspins))\n",
    "ax_mat.set_xticklabels(np.vstack([np.arange(0, nspins, 2).astype(str), \n",
    "                                  np.array(['' for _ in range(int(nspins/2))])]).T.reshape(nspins))\n",
    "ax_mat.set_ylim(-.5, nspins - .5)\n",
    "ax_mat.set_xlim(-.5, nspins - .5)\n",
    "\n",
    "\n",
    "all_axs = [ax_ts, ax_mat, ax_lag]\n",
    "for ax in all_axs:\n",
    "    ax.set_facecolor((0, 0, 0, 0))\n",
    "    \n",
    "fig.align_labels(all_axs)\n",
    "\n",
    "fig.savefig('/home/mi/thempel/Dokumente/Papers/paper_directed_networks/gfx/ising_simple_di.pdf', bbox_inches='tight')"
   ]
  },
  {
   "cell_type": "code",
   "execution_count": null,
   "metadata": {},
   "outputs": [],
   "source": []
  }
 ],
 "metadata": {
  "kernelspec": {
   "display_name": "py37_mar20",
   "language": "python",
   "name": "py37_mar20"
  },
  "language_info": {
   "codemirror_mode": {
    "name": "ipython",
    "version": 3
   },
   "file_extension": ".py",
   "mimetype": "text/x-python",
   "name": "python",
   "nbconvert_exporter": "python",
   "pygments_lexer": "ipython3",
   "version": "3.7.12"
  }
 },
 "nbformat": 4,
 "nbformat_minor": 2
}
